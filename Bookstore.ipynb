{
 "cells": [
  {
   "cell_type": "markdown",
   "metadata": {},
   "source": [
    "## Structuring a Bookstore\n",
    "\n",
    "[...do NOT click on this link...](https://www.youtube.com/watch?v=dQw4w9WgXcQ)\n",
    "\n",
    "In today's class, we'll look at how structure and design a system to support a bookstore using the data structures we know.\n",
    "\n",
    "### Components of our bookstore\n",
    "\n",
    "We'll start by analyzing what _\"objects\"_ we can identify in a normal bookstore. Let's say, for example: _Books_, _Authors_, _Publishers_, _Customers_, _Employees_, etc. We can identify many, and it really depends on the requirements that you have to deal with. For simplicity, **our** system will have to handle the following entities:\n",
    "\n",
    "* **Bookstores**. A bookstore has a name, a series of `Books` that has for sale and the `Authors` of those books. We could have different `Bookstores` (there are multiple bookstores in a city).\n",
    "* **Authors**: From an author we want to store her/his name, their nationality and year of birth.\n",
    "* **Books**: A book has a title, an ISBN and an `Author`.\n",
    "\n",
    "As you can see, we'll have some \"nesting\" in our data: A `Bookstore` has `Book`s, which in turn have `Author`s. `Author`s are probably the simplest entities, they have only names, year of birth and nationalities. For example:\n",
    "\n",
    "* Mark Twain: American (1835).\n",
    "* Jane Austen: English (1775).\n",
    "* Gabriel García Márquez: Colombian (1927).\n",
    "\n",
    "## How can we represent an Author?\n",
    "\n",
    "Now that we know what we want to represent **_logically_**, we need to find the correct data structure to represent it in our program. How could we store an author? I can think of different ideas:\n",
    "\n",
    "##### Option 1. A large string\n",
    "\n",
    "We could store the whole author information in a big string, separated by commas:"
   ]
  },
  {
   "cell_type": "code",
   "execution_count": 1,
   "metadata": {},
   "outputs": [
    {
     "data": {
      "text/plain": [
       "'Mark Twain,American,1835'"
      ]
     },
     "execution_count": 1,
     "metadata": {},
     "output_type": "execute_result"
    }
   ],
   "source": [
    "author = \"Mark Twain,American,1835\"\n",
    "author"
   ]
  },
  {
   "cell_type": "markdown",
   "metadata": {},
   "source": [
    "What problems do you see with this solution? Well, accessing elements is really hard. For example, to access the year of birth (and treat it as an integer), we need the following code:"
   ]
  },
  {
   "cell_type": "code",
   "execution_count": 2,
   "metadata": {},
   "outputs": [
    {
     "data": {
      "text/plain": [
       "1835"
      ]
     },
     "execution_count": 2,
     "metadata": {},
     "output_type": "execute_result"
    }
   ],
   "source": [
    "int(author.split(',')[-1])"
   ]
  },
  {
   "cell_type": "markdown",
   "metadata": {},
   "source": [
    "What happens if someone gets confuses and mixes the places of year and nationality?"
   ]
  },
  {
   "cell_type": "code",
   "execution_count": 3,
   "metadata": {},
   "outputs": [
    {
     "data": {
      "text/plain": [
       "'Mark Twain,1835,American'"
      ]
     },
     "execution_count": 3,
     "metadata": {},
     "output_type": "execute_result"
    }
   ],
   "source": [
    "author = \"Mark Twain,1835,American\"\n",
    "author"
   ]
  },
  {
   "cell_type": "code",
   "execution_count": 4,
   "metadata": {},
   "outputs": [
    {
     "ename": "ValueError",
     "evalue": "invalid literal for int() with base 10: 'American'",
     "output_type": "error",
     "traceback": [
      "\u001b[0;31m---------------------------------------------------------------------------\u001b[0m",
      "\u001b[0;31mValueError\u001b[0m                                Traceback (most recent call last)",
      "\u001b[0;32m<ipython-input-4-a0bb88f70d0d>\u001b[0m in \u001b[0;36m<module>\u001b[0;34m\u001b[0m\n\u001b[0;32m----> 1\u001b[0;31m \u001b[0mint\u001b[0m\u001b[0;34m(\u001b[0m\u001b[0mauthor\u001b[0m\u001b[0;34m.\u001b[0m\u001b[0msplit\u001b[0m\u001b[0;34m(\u001b[0m\u001b[0;34m','\u001b[0m\u001b[0;34m)\u001b[0m\u001b[0;34m[\u001b[0m\u001b[0;34m-\u001b[0m\u001b[0;36m1\u001b[0m\u001b[0;34m]\u001b[0m\u001b[0;34m)\u001b[0m\u001b[0;34m\u001b[0m\u001b[0m\n\u001b[0m",
      "\u001b[0;31mValueError\u001b[0m: invalid literal for int() with base 10: 'American'"
     ]
    }
   ],
   "source": [
    "int(author.split(',')[-1])"
   ]
  },
  {
   "cell_type": "markdown",
   "metadata": {},
   "source": [
    "it fails! Beacuse the element isn't an integer. This is clearly not a good option.\n",
    "\n",
    "##### Option 2. A tuple or list\n",
    "\n",
    "We could represent an author using a sequential collection, like a tuple or list, one value per position. Example:"
   ]
  },
  {
   "cell_type": "code",
   "execution_count": 18,
   "metadata": {},
   "outputs": [
    {
     "data": {
      "text/plain": [
       "('Mark Twain', 'American', 1835)"
      ]
     },
     "execution_count": 18,
     "metadata": {},
     "output_type": "execute_result"
    }
   ],
   "source": [
    "author = (\"Mark Twain\", \"American\", 1835)\n",
    "author"
   ]
  },
  {
   "cell_type": "markdown",
   "metadata": {},
   "source": [
    "This is a little bit better because accessing is much simpler; we also don't need to \"cast\" types (transform the year in an integer for example):"
   ]
  },
  {
   "cell_type": "code",
   "execution_count": 19,
   "metadata": {},
   "outputs": [
    {
     "name": "stdout",
     "output_type": "stream",
     "text": [
      "'Mark Twain' was born in _1835_\n"
     ]
    }
   ],
   "source": [
    "print(\"'{name}' was born in _{year}_\".format(name=author[0], year=author[-1]))"
   ]
  },
  {
   "cell_type": "markdown",
   "metadata": {},
   "source": [
    "But the mixing up of fields still happens:"
   ]
  },
  {
   "cell_type": "code",
   "execution_count": 20,
   "metadata": {},
   "outputs": [
    {
     "data": {
      "text/plain": [
       "('Mark Twain', 1835, 'American')"
      ]
     },
     "execution_count": 20,
     "metadata": {},
     "output_type": "execute_result"
    }
   ],
   "source": [
    "author = (\"Mark Twain\", 1835, \"American\")\n",
    "author"
   ]
  },
  {
   "cell_type": "code",
   "execution_count": 21,
   "metadata": {},
   "outputs": [
    {
     "name": "stdout",
     "output_type": "stream",
     "text": [
      "'Mark Twain' was born in _American_\n"
     ]
    }
   ],
   "source": [
    "print(\"'{name}' was born in _{year}_\".format(name=author[0], year=author[-1]))"
   ]
  },
  {
   "cell_type": "markdown",
   "metadata": {},
   "source": [
    "Also, when the data starts growing, it's REALLY hard to keep track of what each value means. For example, can you indetify each one of the values of the following author:"
   ]
  },
  {
   "cell_type": "code",
   "execution_count": 22,
   "metadata": {},
   "outputs": [
    {
     "data": {
      "text/plain": [
       "('Mark Twain',\n",
       " 'United States',\n",
       " 'CT',\n",
       " 11,\n",
       " 30,\n",
       " 1835,\n",
       " 'United States',\n",
       " 'MO',\n",
       " 4,\n",
       " 21,\n",
       " 1910,\n",
       " 366,\n",
       " 4,\n",
       " 1870)"
      ]
     },
     "execution_count": 22,
     "metadata": {},
     "output_type": "execute_result"
    }
   ],
   "source": [
    "author = (\"Mark Twain\", \"United States\", \"CT\", 11, 30, 1835, \"United States\", \"MO\", 4, 21, 1910, 366, 4, 1870)\n",
    "author"
   ]
  },
  {
   "cell_type": "markdown",
   "metadata": {},
   "source": [
    "It's a little bit hard, right? Our third option will be much better\n",
    "\n",
    "##### Option 3. Dictionaries\n",
    "\n",
    "Dictionaries will be a lot better to store this type of \"structured\" information. For example, our previous author will be represented in this way:"
   ]
  },
  {
   "cell_type": "code",
   "execution_count": 23,
   "metadata": {},
   "outputs": [],
   "source": [
    "author = {\n",
    "    \"Name\": 'Mark Twain',\n",
    "    \"Country Born\": 'United States',\n",
    "    \"State Born\": 'CT',\n",
    "    \"Month Born\": 11,\n",
    "    \"Day Born\": 30,\n",
    "    \"Year Born\": 1835,\n",
    "    \"Country Died\": 'United States',\n",
    "    \"State Died\": 'MO',\n",
    "    \"Month Died\": 4,\n",
    "    \"Day Died\": 21,\n",
    "    \"Year Died\": 1910,\n",
    "    \"Number of pages of most notable work\": 366,\n",
    "    \"Number of children\": 4,\n",
    "    \"Year married\": 1870\n",
    "}"
   ]
  },
  {
   "cell_type": "code",
   "execution_count": 24,
   "metadata": {},
   "outputs": [
    {
     "data": {
      "text/plain": [
       "{'Name': 'Mark Twain',\n",
       " 'Country Born': 'United States',\n",
       " 'State Born': 'CT',\n",
       " 'Month Born': 11,\n",
       " 'Day Born': 30,\n",
       " 'Year Born': 1835,\n",
       " 'Country Died': 'United States',\n",
       " 'State Died': 'MO',\n",
       " 'Month Died': 4,\n",
       " 'Day Died': 21,\n",
       " 'Year Died': 1910,\n",
       " 'Number of pages of most notable work': 366,\n",
       " 'Number of children': 4,\n",
       " 'Year married': 1870}"
      ]
     },
     "execution_count": 24,
     "metadata": {},
     "output_type": "execute_result"
    }
   ],
   "source": [
    "author"
   ]
  },
  {
   "cell_type": "markdown",
   "metadata": {},
   "source": [
    "Now it makes a lot more sense what each value represents. Even better, we can access values without ambiguities and without confusion:"
   ]
  },
  {
   "cell_type": "code",
   "execution_count": 25,
   "metadata": {},
   "outputs": [
    {
     "data": {
      "text/plain": [
       "1835"
      ]
     },
     "execution_count": 25,
     "metadata": {},
     "output_type": "execute_result"
    }
   ],
   "source": [
    "author['Year Born']"
   ]
  },
  {
   "cell_type": "markdown",
   "metadata": {},
   "source": [
    "### One of the most important concepts in programming\n",
    "\n",
    "One of the most important things to understand as a developer is that: **Most data structures will get the job done**, what's important is **understanding the advantages of one over the others**.\n",
    "\n",
    "We could have used Option 1 and use just a big string. It would have gotten the job done. Is it ideal? **OF COURSE NOT!**; but that's when your judgement as a good developer will intervene."
   ]
  },
  {
   "cell_type": "markdown",
   "metadata": {},
   "source": [
    "## Many authors...\n",
    "\n",
    "We saw how to represent a single author using a dictionary. How can we represent multiple authors?"
   ]
  },
  {
   "cell_type": "code",
   "execution_count": 26,
   "metadata": {},
   "outputs": [],
   "source": [
    "twain = {\n",
    "    'name': 'Mark Twain',\n",
    "    'nationality': 'American',\n",
    "    'year': 1835\n",
    "}\n",
    "austen = {\n",
    "    'name': 'Jane Austen',\n",
    "    'nationality': 'English',\n",
    "    'year': 1775\n",
    "}\n",
    "marquez = {\n",
    "    'name': 'Gabriel García Márquez',\n",
    "    'nationality': 'Colombian',\n",
    "    'year': 1927\n",
    "}"
   ]
  },
  {
   "cell_type": "markdown",
   "metadata": {},
   "source": [
    "The answer is: **with a list!**. Think about it: we have _a list_ of authors:"
   ]
  },
  {
   "cell_type": "code",
   "execution_count": 27,
   "metadata": {},
   "outputs": [],
   "source": [
    "authors = [twain, austen, marquez]"
   ]
  },
  {
   "cell_type": "code",
   "execution_count": 28,
   "metadata": {},
   "outputs": [
    {
     "data": {
      "text/plain": [
       "[{'name': 'Mark Twain', 'nationality': 'American', 'year': 1835},\n",
       " {'name': 'Jane Austen', 'nationality': 'English', 'year': 1775},\n",
       " {'name': 'Gabriel García Márquez', 'nationality': 'Colombian', 'year': 1927}]"
      ]
     },
     "execution_count": 28,
     "metadata": {},
     "output_type": "execute_result"
    }
   ],
   "source": [
    "authors"
   ]
  },
  {
   "cell_type": "markdown",
   "metadata": {},
   "source": [
    "### Nested collections\n",
    "\n",
    "As you're used to already, we have just nested a couple of different collection types. In this case, we have a \"list of dictionaries\"; we've nested dictionaries inside a list."
   ]
  },
  {
   "cell_type": "markdown",
   "metadata": {},
   "source": [
    "### Representing Book\n",
    "\n",
    "To represent a book we're going to use also a dictionary, the only twist will be that a book has an `Author`. Let's see..."
   ]
  },
  {
   "cell_type": "code",
   "execution_count": 29,
   "metadata": {},
   "outputs": [],
   "source": [
    "adv_tom_sawyer = {\n",
    "    'title': 'The Adventures of Tom Sawyer',\n",
    "    'ISBN': '9780307475558',\n",
    "    'author': twain\n",
    "}"
   ]
  },
  {
   "cell_type": "markdown",
   "metadata": {},
   "source": [
    "What do we have now? We have another nested collection. This time, we have nested dictionary: a book (represented as a dict) has an author (another dict):"
   ]
  },
  {
   "cell_type": "code",
   "execution_count": 30,
   "metadata": {},
   "outputs": [
    {
     "data": {
      "text/plain": [
       "{'title': 'The Adventures of Tom Sawyer',\n",
       " 'ISBN': '9780307475558',\n",
       " 'author': {'name': 'Mark Twain', 'nationality': 'American', 'year': 1835}}"
      ]
     },
     "execution_count": 30,
     "metadata": {},
     "output_type": "execute_result"
    }
   ],
   "source": [
    "adv_tom_sawyer"
   ]
  },
  {
   "cell_type": "markdown",
   "metadata": {},
   "source": [
    "You can see the nesting of author there 👆"
   ]
  },
  {
   "cell_type": "markdown",
   "metadata": {},
   "source": [
    "### A _list_ of books\n",
    "\n",
    "Similarly to what we did with authors, we're going to use a `list` to store _a list_ of books:"
   ]
  },
  {
   "cell_type": "code",
   "execution_count": 31,
   "metadata": {},
   "outputs": [],
   "source": [
    "adv_tom_sawyer = {\n",
    "    'title': 'The Adventures of Tom Sawyer',\n",
    "    'ISBN': '9780307475558',\n",
    "    'author': twain\n",
    "}\n",
    "\n",
    "adv_huck_finn = {\n",
    "    'title': 'Adventures of Huckleberry Finn',\n",
    "    'ISBN': '9780141439648',\n",
    "    'author': twain\n",
    "}\n",
    "\n",
    "emma = {\n",
    "    'title': 'Emma',\n",
    "    'ISBN': '9780143107712',\n",
    "    'author': austen\n",
    "}\n",
    "\n",
    "pride_and_prejudice = {\n",
    "    'title': 'Pride and Prejudice',\n",
    "    'ISBN': '9780141040349',\n",
    "    'author': austen\n",
    "}\n",
    "\n",
    "hundred_years = {\n",
    "    'title': 'One Hundred Years of Solitude',\n",
    "    'ISBN': '9780241971826',\n",
    "    'author': marquez\n",
    "}"
   ]
  },
  {
   "cell_type": "code",
   "execution_count": 32,
   "metadata": {},
   "outputs": [],
   "source": [
    "books = [adv_tom_sawyer, adv_huck_finn, emma, pride_and_prejudice, hundred_years]"
   ]
  },
  {
   "cell_type": "code",
   "execution_count": 33,
   "metadata": {},
   "outputs": [
    {
     "data": {
      "text/plain": [
       "5"
      ]
     },
     "execution_count": 33,
     "metadata": {},
     "output_type": "execute_result"
    }
   ],
   "source": [
    "len(books)"
   ]
  },
  {
   "cell_type": "code",
   "execution_count": 34,
   "metadata": {},
   "outputs": [
    {
     "data": {
      "text/plain": [
       "[{'title': 'The Adventures of Tom Sawyer',\n",
       "  'ISBN': '9780307475558',\n",
       "  'author': {'name': 'Mark Twain', 'nationality': 'American', 'year': 1835}},\n",
       " {'title': 'Adventures of Huckleberry Finn',\n",
       "  'ISBN': '9780141439648',\n",
       "  'author': {'name': 'Mark Twain', 'nationality': 'American', 'year': 1835}},\n",
       " {'title': 'Emma',\n",
       "  'ISBN': '9780143107712',\n",
       "  'author': {'name': 'Jane Austen', 'nationality': 'English', 'year': 1775}},\n",
       " {'title': 'Pride and Prejudice',\n",
       "  'ISBN': '9780141040349',\n",
       "  'author': {'name': 'Jane Austen', 'nationality': 'English', 'year': 1775}},\n",
       " {'title': 'One Hundred Years of Solitude',\n",
       "  'ISBN': '9780241971826',\n",
       "  'author': {'name': 'Gabriel García Márquez',\n",
       "   'nationality': 'Colombian',\n",
       "   'year': 1927}}]"
      ]
     },
     "execution_count": 34,
     "metadata": {},
     "output_type": "execute_result"
    }
   ],
   "source": [
    "books"
   ]
  },
  {
   "cell_type": "markdown",
   "metadata": {},
   "source": [
    "🤔 What do we have now? We have _a list_ of books... each book is _a dictionary_ that contains an author, which is another _dictionary_.\n",
    "\n",
    "So we have: **a dict, inside a dict, inside a list...**\n",
    "\n",
    "![Mind blown](https://media.giphy.com/media/xT0xeJpnrWC4XWblEk/giphy.gif)\n",
    "\n",
    "Or better...\n",
    "\n",
    "![math lady](https://media1.tenor.com/images/fb3f2d1e814190100a4ae401b1660d5b/tenor.gif?itemid=6081931)"
   ]
  },
  {
   "cell_type": "markdown",
   "metadata": {},
   "source": [
    "## Activity 1: Searching books by american authors\n",
    "\n",
    "Write a function `search_by_country` that receives a list of books and a nationality and looks for all the books written by authors of that nationality:"
   ]
  },
  {
   "cell_type": "code",
   "execution_count": 35,
   "metadata": {},
   "outputs": [
    {
     "data": {
      "text/plain": [
       "[{'title': 'The Adventures of Tom Sawyer',\n",
       "  'ISBN': '9780307475558',\n",
       "  'author': {'name': 'Mark Twain', 'nationality': 'American', 'year': 1835}},\n",
       " {'title': 'Adventures of Huckleberry Finn',\n",
       "  'ISBN': '9780141439648',\n",
       "  'author': {'name': 'Mark Twain', 'nationality': 'American', 'year': 1835}},\n",
       " {'title': 'Emma',\n",
       "  'ISBN': '9780143107712',\n",
       "  'author': {'name': 'Jane Austen', 'nationality': 'English', 'year': 1775}},\n",
       " {'title': 'Pride and Prejudice',\n",
       "  'ISBN': '9780141040349',\n",
       "  'author': {'name': 'Jane Austen', 'nationality': 'English', 'year': 1775}},\n",
       " {'title': 'One Hundred Years of Solitude',\n",
       "  'ISBN': '9780241971826',\n",
       "  'author': {'name': 'Gabriel García Márquez',\n",
       "   'nationality': 'Colombian',\n",
       "   'year': 1927}}]"
      ]
     },
     "execution_count": 35,
     "metadata": {},
     "output_type": "execute_result"
    }
   ],
   "source": [
    "books"
   ]
  },
  {
   "cell_type": "code",
   "execution_count": 36,
   "metadata": {},
   "outputs": [],
   "source": [
    "def search_books_by_nationality(books_list, nationality):\n",
    "    pass"
   ]
  },
  {
   "cell_type": "code",
   "execution_count": 37,
   "metadata": {},
   "outputs": [
    {
     "data": {
      "text/plain": [
       "[{'title': 'The Adventures of Tom Sawyer',\n",
       "  'ISBN': '9780307475558',\n",
       "  'author': {'name': 'Mark Twain', 'nationality': 'American', 'year': 1835}},\n",
       " {'title': 'Adventures of Huckleberry Finn',\n",
       "  'ISBN': '9780141439648',\n",
       "  'author': {'name': 'Mark Twain', 'nationality': 'American', 'year': 1835}}]"
      ]
     },
     "execution_count": 37,
     "metadata": {},
     "output_type": "execute_result"
    }
   ],
   "source": [
    "search_books_by_nationality(books, 'American')"
   ]
  },
  {
   "cell_type": "code",
   "execution_count": 38,
   "metadata": {},
   "outputs": [
    {
     "data": {
      "text/plain": [
       "[{'title': 'One Hundred Years of Solitude',\n",
       "  'ISBN': '9780241971826',\n",
       "  'author': {'name': 'Gabriel García Márquez',\n",
       "   'nationality': 'Colombian',\n",
       "   'year': 1927}}]"
      ]
     },
     "execution_count": 38,
     "metadata": {},
     "output_type": "execute_result"
    }
   ],
   "source": [
    "search_books_by_nationality(books, 'Colombian')"
   ]
  },
  {
   "cell_type": "markdown",
   "metadata": {},
   "source": [
    "## Representing the bookstore\n",
    "\n",
    "We said a bookstore stores the following info: a _name_, a _list of authors_ and a _list of books_. We know we can use also a dictionary for that:"
   ]
  },
  {
   "cell_type": "code",
   "execution_count": 52,
   "metadata": {},
   "outputs": [],
   "source": [
    "marys_bookstore = {\n",
    "    'name': \"Mary's bookstore\",\n",
    "    'books': [],\n",
    "    'authors': []\n",
    "}\n",
    "\n",
    "james_bookstore = {\n",
    "    'name': \"James's bookstore\",\n",
    "    'books': [],\n",
    "    'authors': []\n",
    "}"
   ]
  },
  {
   "cell_type": "markdown",
   "metadata": {},
   "source": [
    "We can now add the authors and books that the bookstores will have available. For example:"
   ]
  },
  {
   "cell_type": "code",
   "execution_count": 53,
   "metadata": {},
   "outputs": [],
   "source": [
    "marys_bookstore['books'].append(adv_huck_finn)\n",
    "marys_bookstore['books'].append(adv_tom_sawyer)\n",
    "marys_bookstore['books'].append(pride_and_prejudice)\n",
    "\n",
    "marys_bookstore['authors'].append(twain)\n",
    "marys_bookstore['authors'].append(austen)"
   ]
  },
  {
   "cell_type": "code",
   "execution_count": 54,
   "metadata": {},
   "outputs": [
    {
     "data": {
      "text/plain": [
       "{'name': \"Mary's bookstore\",\n",
       " 'books': [{'title': 'Adventures of Huckleberry Finn',\n",
       "   'ISBN': '9780141439648',\n",
       "   'author': {'name': 'Mark Twain', 'nationality': 'American', 'year': 1835}},\n",
       "  {'title': 'The Adventures of Tom Sawyer',\n",
       "   'ISBN': '9780307475558',\n",
       "   'author': {'name': 'Mark Twain', 'nationality': 'American', 'year': 1835}},\n",
       "  {'title': 'Pride and Prejudice',\n",
       "   'ISBN': '9780141040349',\n",
       "   'author': {'name': 'Jane Austen', 'nationality': 'English', 'year': 1775}}],\n",
       " 'authors': [{'name': 'Mark Twain', 'nationality': 'American', 'year': 1835},\n",
       "  {'name': 'Jane Austen', 'nationality': 'English', 'year': 1775}]}"
      ]
     },
     "execution_count": 54,
     "metadata": {},
     "output_type": "execute_result"
    }
   ],
   "source": [
    "marys_bookstore"
   ]
  },
  {
   "cell_type": "code",
   "execution_count": 55,
   "metadata": {},
   "outputs": [],
   "source": [
    "james_bookstore['books'].append(emma)\n",
    "james_bookstore['books'].append(hundred_years)\n",
    "\n",
    "james_bookstore['authors'].append(austen)\n",
    "james_bookstore['authors'].append(marquez)"
   ]
  },
  {
   "cell_type": "code",
   "execution_count": 56,
   "metadata": {},
   "outputs": [
    {
     "data": {
      "text/plain": [
       "{'name': \"James's bookstore\",\n",
       " 'books': [{'title': 'Emma',\n",
       "   'ISBN': '9780143107712',\n",
       "   'author': {'name': 'Jane Austen', 'nationality': 'English', 'year': 1775}},\n",
       "  {'title': 'One Hundred Years of Solitude',\n",
       "   'ISBN': '9780241971826',\n",
       "   'author': {'name': 'Gabriel García Márquez',\n",
       "    'nationality': 'Colombian',\n",
       "    'year': 1927}}],\n",
       " 'authors': [{'name': 'Jane Austen', 'nationality': 'English', 'year': 1775},\n",
       "  {'name': 'Gabriel García Márquez',\n",
       "   'nationality': 'Colombian',\n",
       "   'year': 1927}]}"
      ]
     },
     "execution_count": 56,
     "metadata": {},
     "output_type": "execute_result"
    }
   ],
   "source": [
    "james_bookstore"
   ]
  },
  {
   "cell_type": "markdown",
   "metadata": {},
   "source": [
    "## Activity 2: Get authors by name\n",
    "\n",
    "Write a function `get_author_by_name` that receives a bookstore and a name of an author and returns all the authors in the bookstore that match that name:"
   ]
  },
  {
   "cell_type": "code",
   "execution_count": 57,
   "metadata": {},
   "outputs": [],
   "source": [
    "def get_author_by_name(bookstore, name):\n",
    "    pass"
   ]
  },
  {
   "cell_type": "code",
   "execution_count": 58,
   "metadata": {},
   "outputs": [
    {
     "data": {
      "text/plain": [
       "{'name': 'Jane Austen', 'nationality': 'English', 'year': 1775}"
      ]
     },
     "execution_count": 58,
     "metadata": {},
     "output_type": "execute_result"
    }
   ],
   "source": [
    "get_author_by_name(marys_bookstore, 'Jane Austen')"
   ]
  },
  {
   "cell_type": "code",
   "execution_count": 59,
   "metadata": {},
   "outputs": [
    {
     "data": {
      "text/plain": [
       "{'name': 'Gabriel García Márquez', 'nationality': 'Colombian', 'year': 1927}"
      ]
     },
     "execution_count": 59,
     "metadata": {},
     "output_type": "execute_result"
    }
   ],
   "source": [
    "get_author_by_name(james_bookstore, 'Gabriel García Márquez')"
   ]
  },
  {
   "cell_type": "code",
   "execution_count": 61,
   "metadata": {},
   "outputs": [],
   "source": [
    "get_author_by_name(james_bookstore, 'Non existen author')  # should return None"
   ]
  },
  {
   "cell_type": "markdown",
   "metadata": {},
   "source": [
    "## Finishing the practice\n",
    "\n",
    "Now with the help of your teacher, you have to apply what we've practiced so far to work on today's practice. Your job is to implement `bookstore.py`, using the tests defined in `tests.py`."
   ]
  }
 ],
 "metadata": {
  "kernelspec": {
   "display_name": "Python 3",
   "language": "python",
   "name": "python3"
  },
  "language_info": {
   "codemirror_mode": {
    "name": "ipython",
    "version": 3
   },
   "file_extension": ".py",
   "mimetype": "text/x-python",
   "name": "python",
   "nbconvert_exporter": "python",
   "pygments_lexer": "ipython3",
   "version": "3.6.6"
  }
 },
 "nbformat": 4,
 "nbformat_minor": 2
}
